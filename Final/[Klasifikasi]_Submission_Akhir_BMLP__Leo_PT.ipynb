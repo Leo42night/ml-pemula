{
  "cells": [
    {
      "cell_type": "markdown",
      "metadata": {
        "id": "zlhELf7shjJV"
      },
      "source": [
        "Target:\n",
        "- Mengimplementasikan 2 algoritma klasifikasi yang berbeda untuk membandingkan performa model.\n",
        "- Meningkatkan akurasi dan F1-Score pada testing set minimal 92%.\n",
        "\n",
        "**How to Run Code** 👀👀:\n",
        "  - lakukan **Run All**:\n",
        "    - ~3m (Full Code Active)\n",
        "    - ~5s (Jika Model Selection di-Comment)\n",
        "  - Comment Code / Short Code:\n",
        "    - Beberapa kode, karena proses komputasi nya lama, dapat di-comment `ctrl + /`, tidak akan mengganggu kode keseluruhan karena hanya kode pengecekan, output tersedia di akhir kode 🫠\n",
        "    - Kode yang dapat di-comment dimulai dengan #--Start Comment dan diakhiri dengan #--End Comment"
      ]
    },
    {
      "cell_type": "markdown",
      "metadata": {
        "id": "fKADPWcFKlj3"
      },
      "source": [
        "# **1. Import Library**"
      ]
    },
    {
      "cell_type": "markdown",
      "metadata": {
        "id": "LgA3ERnVn84N"
      },
      "source": [
        "Pada tahap ini, Anda perlu mengimpor beberapa pustaka (library) Python yang dibutuhkan untuk analisis data dan pembangunan model machine learning."
      ]
    },
    {
      "cell_type": "code",
      "execution_count": null,
      "metadata": {
        "id": "BlmvjLY9M4Yj"
      },
      "outputs": [],
      "source": [
        "# Library Dasar\n",
        "import pandas as pd\n",
        "import matplotlib.pyplot as plt\n",
        "import seaborn as sns\n",
        "\n",
        "# Library untuk Preprocessing\n",
        "from sklearn.model_selection import train_test_split\n",
        "from sklearn.preprocessing import StandardScaler\n",
        "\n",
        "# Model Klasifikasi\n",
        "from sklearn.tree import DecisionTreeClassifier\n",
        "from sklearn.ensemble import RandomForestClassifier, GradientBoostingClassifier\n",
        "from sklearn.naive_bayes import GaussianNB\n",
        "from sklearn.svm import SVC\n",
        "from sklearn.neighbors import KNeighborsClassifier\n",
        "from sklearn.linear_model import LogisticRegression\n",
        "\n",
        "\n",
        "# Evaluasi Model\n",
        "from sklearn.metrics import accuracy_score, classification_report, confusion_matrix\n",
        "\n",
        "# untuk Cross-Validation dan Hyperparameter Tuning\n",
        "from sklearn.model_selection import GridSearchCV, cross_val_score"
      ]
    },
    {
      "cell_type": "markdown",
      "metadata": {
        "id": "f3YIEnAFKrKL"
      },
      "source": [
        "# **2. Memuat Dataset dari Hasil Clustering**"
      ]
    },
    {
      "cell_type": "markdown",
      "metadata": {
        "id": "Ey3ItwTen_7E"
      },
      "source": [
        "Memuat dataset hasil clustering dari file CSV ke dalam variabel DataFrame."
      ]
    },
    {
      "cell_type": "code",
      "execution_count": 34,
      "metadata": {
        "colab": {
          "base_uri": "https://localhost:8080/"
        },
        "id": "GHCGNTyrM5fS",
        "outputId": "395fde5d-2978-4946-fe59-635de40fed05"
      },
      "outputs": [
        {
          "data": {
            "text/html": [
              "<div>\n",
              "<style scoped>\n",
              "    .dataframe tbody tr th:only-of-type {\n",
              "        vertical-align: middle;\n",
              "    }\n",
              "\n",
              "    .dataframe tbody tr th {\n",
              "        vertical-align: top;\n",
              "    }\n",
              "\n",
              "    .dataframe thead th {\n",
              "        text-align: right;\n",
              "    }\n",
              "</style>\n",
              "<table border=\"1\" class=\"dataframe\">\n",
              "  <thead>\n",
              "    <tr style=\"text-align: right;\">\n",
              "      <th></th>\n",
              "      <th>Total_Price</th>\n",
              "      <th>Unit_Price</th>\n",
              "      <th>Quantity</th>\n",
              "      <th>Product</th>\n",
              "      <th>Discount</th>\n",
              "      <th>Cluster</th>\n",
              "      <th>Category</th>\n",
              "    </tr>\n",
              "  </thead>\n",
              "  <tbody>\n",
              "    <tr>\n",
              "      <th>0</th>\n",
              "      <td>124.54</td>\n",
              "      <td>1.87</td>\n",
              "      <td>74</td>\n",
              "      <td>Hohes C Orange</td>\n",
              "      <td>0.10</td>\n",
              "      <td>0</td>\n",
              "      <td>Juices</td>\n",
              "    </tr>\n",
              "    <tr>\n",
              "      <th>1</th>\n",
              "      <td>31.98</td>\n",
              "      <td>1.87</td>\n",
              "      <td>18</td>\n",
              "      <td>Fritz-Kola</td>\n",
              "      <td>0.05</td>\n",
              "      <td>0</td>\n",
              "      <td>Soft Drinks</td>\n",
              "    </tr>\n",
              "    <tr>\n",
              "      <th>2</th>\n",
              "      <td>726.61</td>\n",
              "      <td>12.04</td>\n",
              "      <td>71</td>\n",
              "      <td>Merlot</td>\n",
              "      <td>0.15</td>\n",
              "      <td>4</td>\n",
              "      <td>Alcoholic Beverages</td>\n",
              "    </tr>\n",
              "    <tr>\n",
              "      <th>3</th>\n",
              "      <td>5316.13</td>\n",
              "      <td>64.91</td>\n",
              "      <td>91</td>\n",
              "      <td>Moët &amp; Chandon</td>\n",
              "      <td>0.10</td>\n",
              "      <td>3</td>\n",
              "      <td>Alcoholic Beverages</td>\n",
              "    </tr>\n",
              "    <tr>\n",
              "      <th>4</th>\n",
              "      <td>6.56</td>\n",
              "      <td>1.64</td>\n",
              "      <td>4</td>\n",
              "      <td>Granini Apple</td>\n",
              "      <td>0.00</td>\n",
              "      <td>0</td>\n",
              "      <td>Juices</td>\n",
              "    </tr>\n",
              "  </tbody>\n",
              "</table>\n",
              "</div>"
            ],
            "text/plain": [
              "   Total_Price  Unit_Price  Quantity         Product  Discount  Cluster  \\\n",
              "0       124.54        1.87        74  Hohes C Orange      0.10        0   \n",
              "1        31.98        1.87        18      Fritz-Kola      0.05        0   \n",
              "2       726.61       12.04        71          Merlot      0.15        4   \n",
              "3      5316.13       64.91        91  Moët & Chandon      0.10        3   \n",
              "4         6.56        1.64         4   Granini Apple      0.00        0   \n",
              "\n",
              "              Category  \n",
              "0               Juices  \n",
              "1          Soft Drinks  \n",
              "2  Alcoholic Beverages  \n",
              "3  Alcoholic Beverages  \n",
              "4               Juices  "
            ]
          },
          "execution_count": 34,
          "metadata": {},
          "output_type": "execute_result"
        }
      ],
      "source": [
        "df = pd.read_csv('beverage_labeled.csv') # adalah 10.000 rows sample random dari dataset asli yang ada di kaggle (900k rows x 11 columns) \n",
        "df.head()"
      ]
    },
    {
      "cell_type": "markdown",
      "metadata": {
        "id": "KkPem5eWL2UP"
      },
      "source": [
        "# **3. Data Splitting**"
      ]
    },
    {
      "cell_type": "markdown",
      "metadata": {
        "id": "YYj1rl_JNI9Y"
      },
      "source": [
        "Tahap Data Splitting bertujuan untuk memisahkan dataset menjadi dua bagian: data latih (training set) dan data uji (test set)."
      ]
    },
    {
      "cell_type": "code",
      "execution_count": 35,
      "metadata": {
        "colab": {
          "base_uri": "https://localhost:8080/"
        },
        "id": "OubAW-7ONKVj",
        "outputId": "8cf37f67-2aac-45a2-983d-b95919d29aff"
      },
      "outputs": [
        {
          "data": {
            "text/plain": [
              "'Train Data ((8000, 4)):'"
            ]
          },
          "metadata": {},
          "output_type": "display_data"
        },
        {
          "data": {
            "text/html": [
              "<div>\n",
              "<style scoped>\n",
              "    .dataframe tbody tr th:only-of-type {\n",
              "        vertical-align: middle;\n",
              "    }\n",
              "\n",
              "    .dataframe tbody tr th {\n",
              "        vertical-align: top;\n",
              "    }\n",
              "\n",
              "    .dataframe thead th {\n",
              "        text-align: right;\n",
              "    }\n",
              "</style>\n",
              "<table border=\"1\" class=\"dataframe\">\n",
              "  <thead>\n",
              "    <tr style=\"text-align: right;\">\n",
              "      <th></th>\n",
              "      <th>Total_Price</th>\n",
              "      <th>Unit_Price</th>\n",
              "      <th>Quantity</th>\n",
              "      <th>Discount</th>\n",
              "    </tr>\n",
              "  </thead>\n",
              "  <tbody>\n",
              "    <tr>\n",
              "      <th>2342</th>\n",
              "      <td>19.02</td>\n",
              "      <td>1.54</td>\n",
              "      <td>13</td>\n",
              "      <td>0.05</td>\n",
              "    </tr>\n",
              "    <tr>\n",
              "      <th>1214</th>\n",
              "      <td>32.45</td>\n",
              "      <td>2.44</td>\n",
              "      <td>14</td>\n",
              "      <td>0.05</td>\n",
              "    </tr>\n",
              "    <tr>\n",
              "      <th>3930</th>\n",
              "      <td>9.36</td>\n",
              "      <td>3.12</td>\n",
              "      <td>3</td>\n",
              "      <td>0.00</td>\n",
              "    </tr>\n",
              "    <tr>\n",
              "      <th>3385</th>\n",
              "      <td>15.90</td>\n",
              "      <td>1.59</td>\n",
              "      <td>10</td>\n",
              "      <td>0.00</td>\n",
              "    </tr>\n",
              "    <tr>\n",
              "      <th>2214</th>\n",
              "      <td>2.21</td>\n",
              "      <td>2.21</td>\n",
              "      <td>1</td>\n",
              "      <td>0.00</td>\n",
              "    </tr>\n",
              "  </tbody>\n",
              "</table>\n",
              "</div>"
            ],
            "text/plain": [
              "      Total_Price  Unit_Price  Quantity  Discount\n",
              "2342        19.02        1.54        13      0.05\n",
              "1214        32.45        2.44        14      0.05\n",
              "3930         9.36        3.12         3      0.00\n",
              "3385        15.90        1.59        10      0.00\n",
              "2214         2.21        2.21         1      0.00"
            ]
          },
          "metadata": {},
          "output_type": "display_data"
        },
        {
          "data": {
            "text/plain": [
              "'Test Data ((2000, 4)):'"
            ]
          },
          "metadata": {},
          "output_type": "display_data"
        },
        {
          "data": {
            "text/html": [
              "<div>\n",
              "<style scoped>\n",
              "    .dataframe tbody tr th:only-of-type {\n",
              "        vertical-align: middle;\n",
              "    }\n",
              "\n",
              "    .dataframe tbody tr th {\n",
              "        vertical-align: top;\n",
              "    }\n",
              "\n",
              "    .dataframe thead th {\n",
              "        text-align: right;\n",
              "    }\n",
              "</style>\n",
              "<table border=\"1\" class=\"dataframe\">\n",
              "  <thead>\n",
              "    <tr style=\"text-align: right;\">\n",
              "      <th></th>\n",
              "      <th>Total_Price</th>\n",
              "      <th>Unit_Price</th>\n",
              "      <th>Quantity</th>\n",
              "      <th>Discount</th>\n",
              "    </tr>\n",
              "  </thead>\n",
              "  <tbody>\n",
              "    <tr>\n",
              "      <th>489</th>\n",
              "      <td>327.57</td>\n",
              "      <td>109.19</td>\n",
              "      <td>3</td>\n",
              "      <td>0.0</td>\n",
              "    </tr>\n",
              "    <tr>\n",
              "      <th>5695</th>\n",
              "      <td>436.20</td>\n",
              "      <td>72.70</td>\n",
              "      <td>6</td>\n",
              "      <td>0.0</td>\n",
              "    </tr>\n",
              "    <tr>\n",
              "      <th>3539</th>\n",
              "      <td>3.03</td>\n",
              "      <td>1.01</td>\n",
              "      <td>3</td>\n",
              "      <td>0.0</td>\n",
              "    </tr>\n",
              "    <tr>\n",
              "      <th>9088</th>\n",
              "      <td>174.72</td>\n",
              "      <td>13.44</td>\n",
              "      <td>13</td>\n",
              "      <td>0.0</td>\n",
              "    </tr>\n",
              "    <tr>\n",
              "      <th>7037</th>\n",
              "      <td>22.35</td>\n",
              "      <td>1.49</td>\n",
              "      <td>15</td>\n",
              "      <td>0.0</td>\n",
              "    </tr>\n",
              "  </tbody>\n",
              "</table>\n",
              "</div>"
            ],
            "text/plain": [
              "      Total_Price  Unit_Price  Quantity  Discount\n",
              "489        327.57      109.19         3       0.0\n",
              "5695       436.20       72.70         6       0.0\n",
              "3539         3.03        1.01         3       0.0\n",
              "9088       174.72       13.44        13       0.0\n",
              "7037        22.35        1.49        15       0.0"
            ]
          },
          "metadata": {},
          "output_type": "display_data"
        }
      ],
      "source": [
        "# Pisahkan fitur (X) dan target (y)\n",
        "num_df = df.select_dtypes(include=['float64', 'int64']).copy()\n",
        "\n",
        "X = num_df.drop(columns=['Cluster'])  # Menghapus kolom Cluster (target)\n",
        "y = num_df['Cluster']  # Target label\n",
        "\n",
        "# Split data menjadi training dan testing (80% training, 20% testing)\n",
        "X_train, X_test, y_train, y_test = train_test_split(X, y, test_size=0.2, random_state=42, stratify=y)\n",
        "\n",
        "display(f\"Train Data ({X_train.shape}):\", X_train.head())\n",
        "display(f\"Test Data ({X_test.shape}):\", X_test.head())\n",
        "\n",
        "# Standarisasi fitur numerik\n",
        "scaler = StandardScaler()\n",
        "X_train = scaler.fit_transform(X_train)\n",
        "X_test = scaler.transform(X_test)"
      ]
    },
    {
      "cell_type": "markdown",
      "metadata": {
        "id": "IVPbB03CMhTT"
      },
      "source": [
        "# **4. Membangun Model Klasifikasi**\n"
      ]
    },
    {
      "cell_type": "markdown",
      "metadata": {
        "id": "Ned1pL9zMmBK"
      },
      "source": [
        "## **a. Membangun Model Klasifikasi**"
      ]
    },
    {
      "cell_type": "markdown",
      "metadata": {
        "id": "WAWzPOE4Nkti"
      },
      "source": [
        "Setelah memilih algoritma klasifikasi yang sesuai, langkah selanjutnya adalah melatih model menggunakan data latih.\n",
        "\n",
        "Berikut adalah rekomendasi tahapannya.\n",
        "1. Pilih algoritma klasifikasi yang sesuai, seperti Logistic Regression, Decision Tree, Random Forest, atau K-Nearest Neighbors (KNN).\n",
        "2. Latih model menggunakan data latih."
      ]
    },
    {
      "cell_type": "code",
      "execution_count": 36,
      "metadata": {
        "id": "4JYxBe87NLDk"
      },
      "outputs": [],
      "source": [
        "logreg = LogisticRegression()\n",
        "logreg.fit(X_train, y_train)\n",
        "y_pred_logreg = logreg.predict(X_test)\n",
        "\n",
        "dt = DecisionTreeClassifier(random_state=42)\n",
        "dt.fit(X_train, y_train)\n",
        "y_pred_dt = dt.predict(X_test)\n",
        "\n",
        "rf = RandomForestClassifier(n_estimators=100, random_state=42)\n",
        "rf.fit(X_train, y_train)\n",
        "y_pred_rf = rf.predict(X_test)\n",
        "\n",
        "knn = KNeighborsClassifier(n_neighbors=5)\n",
        "knn.fit(X_train, y_train)\n",
        "y_pred_knn = knn.predict(X_test)\n",
        "\n",
        "gb = GradientBoostingClassifier(n_estimators=100, learning_rate=0.1, random_state=42)\n",
        "gb.fit(X_train, y_train)\n",
        "y_pred_gb = gb.predict(X_test)\n",
        "\n",
        "nb = GaussianNB()\n",
        "nb.fit(X_train, y_train)\n",
        "y_pred_nb = nb.predict(X_test)\n",
        "\n",
        "svc = SVC(kernel='rbf', C=1.0, random_state=42)\n",
        "svc.fit(X_train, y_train)\n",
        "y_pred_svc = svc.predict(X_test)"
      ]
    },
    {
      "cell_type": "markdown",
      "metadata": {
        "id": "seYoHNY3XU1y"
      },
      "source": [
        "Saya menggunakan semua algoritma klasifiasi untuk menguji Model untuk membandingkan hasil tiap model secara keseluruhan"
      ]
    },
    {
      "cell_type": "markdown",
      "metadata": {
        "id": "ergzChZFEL-O"
      },
      "source": [
        "## **b. Evaluasi Model Klasifikasi**"
      ]
    },
    {
      "cell_type": "markdown",
      "metadata": {
        "id": "zOm68u-7NpLT"
      },
      "source": [
        "Berikut adalah **rekomendasi** tahapannya.\n",
        "1. Lakukan prediksi menggunakan data uji.\n",
        "2. Hitung metrik evaluasi seperti Accuracy dan F1-Score (Opsional: Precision dan Recall).\n",
        "3. Buat confusion matrix untuk melihat detail prediksi benar dan salah."
      ]
    },
    {
      "cell_type": "code",
      "execution_count": 37,
      "metadata": {
        "id": "tMq4QAssNLip"
      },
      "outputs": [
        {
          "name": "stdout",
          "output_type": "stream",
          "text": [
            "Accuracy Logistic Regression: 0.996\n",
            "              precision    recall  f1-score   support\n",
            "\n",
            "           0       1.00      1.00      1.00      1902\n",
            "           1       0.92      1.00      0.96        22\n",
            "           2       1.00      1.00      1.00         2\n",
            "           3       1.00      1.00      1.00         7\n",
            "           4       1.00      0.88      0.94        67\n",
            "\n",
            "    accuracy                           1.00      2000\n",
            "   macro avg       0.98      0.98      0.98      2000\n",
            "weighted avg       1.00      1.00      1.00      2000\n",
            "\n",
            "Accuracy Decision Tree: 0.9995\n",
            "              precision    recall  f1-score   support\n",
            "\n",
            "           0       1.00      1.00      1.00      1902\n",
            "           1       0.96      1.00      0.98        22\n",
            "           2       1.00      1.00      1.00         2\n",
            "           3       1.00      1.00      1.00         7\n",
            "           4       1.00      0.99      0.99        67\n",
            "\n",
            "    accuracy                           1.00      2000\n",
            "   macro avg       0.99      1.00      0.99      2000\n",
            "weighted avg       1.00      1.00      1.00      2000\n",
            "\n",
            "Accuracy Random Forest: 0.9995\n",
            "              precision    recall  f1-score   support\n",
            "\n",
            "           0       1.00      1.00      1.00      1902\n",
            "           1       0.96      1.00      0.98        22\n",
            "           2       1.00      1.00      1.00         2\n",
            "           3       1.00      1.00      1.00         7\n",
            "           4       1.00      0.99      0.99        67\n",
            "\n",
            "    accuracy                           1.00      2000\n",
            "   macro avg       0.99      1.00      0.99      2000\n",
            "weighted avg       1.00      1.00      1.00      2000\n",
            "\n",
            "Accuracy KNN: 0.9965\n",
            "              precision    recall  f1-score   support\n",
            "\n",
            "           0       1.00      1.00      1.00      1902\n",
            "           1       0.92      1.00      0.96        22\n",
            "           2       1.00      1.00      1.00         2\n",
            "           3       1.00      1.00      1.00         7\n",
            "           4       0.97      0.93      0.95        67\n",
            "\n",
            "    accuracy                           1.00      2000\n",
            "   macro avg       0.98      0.98      0.98      2000\n",
            "weighted avg       1.00      1.00      1.00      2000\n",
            "\n",
            "Accuracy Gradient Boosting: 0.9995\n",
            "              precision    recall  f1-score   support\n",
            "\n",
            "           0       1.00      1.00      1.00      1902\n",
            "           1       0.96      1.00      0.98        22\n",
            "           2       1.00      1.00      1.00         2\n",
            "           3       1.00      1.00      1.00         7\n",
            "           4       1.00      0.99      0.99        67\n",
            "\n",
            "    accuracy                           1.00      2000\n",
            "   macro avg       0.99      1.00      0.99      2000\n",
            "weighted avg       1.00      1.00      1.00      2000\n",
            "\n",
            "Accuracy GaussianNB: 0.9685\n",
            "              precision    recall  f1-score   support\n",
            "\n",
            "           0       1.00      0.97      0.98      1902\n",
            "           1       0.92      1.00      0.96        22\n",
            "           2       1.00      1.00      1.00         2\n",
            "           3       1.00      1.00      1.00         7\n",
            "           4       0.52      0.97      0.67        67\n",
            "\n",
            "    accuracy                           0.97      2000\n",
            "   macro avg       0.89      0.99      0.92      2000\n",
            "weighted avg       0.98      0.97      0.97      2000\n",
            "\n",
            "Accuracy SVC: 0.9975\n",
            "              precision    recall  f1-score   support\n",
            "\n",
            "           0       1.00      1.00      1.00      1902\n",
            "           1       0.96      1.00      0.98        22\n",
            "           2       1.00      1.00      1.00         2\n",
            "           3       1.00      1.00      1.00         7\n",
            "           4       1.00      0.93      0.96        67\n",
            "\n",
            "    accuracy                           1.00      2000\n",
            "   macro avg       0.99      0.99      0.99      2000\n",
            "weighted avg       1.00      1.00      1.00      2000\n",
            "\n"
          ]
        }
      ],
      "source": [
        "print(\"Accuracy Logistic Regression:\", accuracy_score(y_test, y_pred_logreg))\n",
        "print(classification_report(y_test, y_pred_logreg))\n",
        "\n",
        "print(\"Accuracy Decision Tree:\", accuracy_score(y_test, y_pred_dt))\n",
        "print(classification_report(y_test, y_pred_dt))\n",
        "\n",
        "print(\"Accuracy Random Forest:\", accuracy_score(y_test, y_pred_rf))\n",
        "print(classification_report(y_test, y_pred_rf))\n",
        "\n",
        "print(\"Accuracy KNN:\", accuracy_score(y_test, y_pred_knn))\n",
        "print(classification_report(y_test, y_pred_knn))\n",
        "\n",
        "print(\"Accuracy Gradient Boosting:\", accuracy_score(y_test, y_pred_gb))\n",
        "print(classification_report(y_test, y_pred_gb))\n",
        "\n",
        "print(\"Accuracy GaussianNB:\", accuracy_score(y_test, y_pred_nb))\n",
        "print(classification_report(y_test, y_pred_nb))\n",
        "\n",
        "print(\"Accuracy SVC:\", accuracy_score(y_test, y_pred_svc))\n",
        "print(classification_report(y_test, y_pred_svc))"
      ]
    },
    {
      "cell_type": "markdown",
      "metadata": {
        "id": "H4_9OwrsXZlz"
      },
      "source": [
        "### Perbandingan Akurasi dan F1-Score Model Klasifikasi\n",
        "\n",
        "Berikut adalah tabel perbandingan hasil akurasi dan F1-score untuk masing-masing model:\n",
        "\n",
        "| Model                     | Akurasi  | F1-Score (Weighted Avg) |\n",
        "|---------------------------|----------|-------------------------|\n",
        "| Logistic Regression       | 0.9960   | 1.00                    |\n",
        "| Decision Tree            | 0.9995   | 1.00                    |\n",
        "| Random Forest            | 0.9995   | 1.00                    |\n",
        "| K-Nearest Neighbors (KNN) | 0.9965   | 1.00                    |\n",
        "| Gradient Boosting        | 0.9995   | 1.00                    |\n",
        "| Gaussian Naïve Bayes     | 0.9685   | 0.97                    |\n",
        "| Support Vector Machine (SVC) | 0.9975 | 1.00                    |\n",
        "\n",
        "### **Kesimpulan**\n",
        "- Model dengan Akurasi Tertinggi:\n",
        "  - Decision Tree, Random Forest, dan Gradient Boosting memiliki akurasi 99.95%, menjadikannya model terbaik berdasarkan akurasi.\n",
        "  - SVC (99.75%) dan Logistic Regression (99.6%) juga menunjukkan performa yang sangat baik.\n",
        "- Gaussian Naïve Bayes memiliki performa terendah dengan akurasi 96.85% dan f1-score 0.97, kemungkinan karena asumsi distribusi normal pada fitur tidak terpenuhi.\n",
        "- Decision Tree vs Random Forest vs Gradient Boosting:\n",
        "  - Ketiga model ini memiliki performa serupa.\n",
        "  - Random Forest dan Gradient Boosting cenderung lebih stabil terhadap overfitting dibanding Decision Tree.\n",
        "- SVC dan KNN juga menunjukkan performa sangat baik, tetapi sedikit di bawah Random Forest dan Gradient Boosting.\n",
        "\n",
        "Berdasarkan hasil perbandingan, Random Forest adalah pilihan terbaik sebagai model utama. Alasannya:\n",
        "- Akurasi tinggi (99.95%)\n",
        "- Lebih stabil dibanding Decision Tree & Gradient Boosting\n",
        "- Cocok untuk dataset dengan berbagai fitur"
      ]
    },
    {
      "cell_type": "markdown",
      "metadata": {
        "id": "ph9yIYDXEPuB"
      },
      "source": [
        "## **c. Tuning Model Klasifikasi (Optional)**"
      ]
    },
    {
      "cell_type": "markdown",
      "metadata": {
        "id": "-Bikx3LINv5e"
      },
      "source": [
        "Menggunakan Model **Random Forest**, kita akan melakukan testing berbagai konfigurasi model (Kode dikomentar sementara karena proses ~2m 57s [Silahkan buka komentar jika ingin mencobanya], jika ingin melihat output ada di akhir kode)"
      ]
    },
    {
      "cell_type": "code",
      "execution_count": null,
      "metadata": {
        "id": "winbFzb8NL95"
      },
      "outputs": [],
      "source": [
        "#--Start Comment\n",
        "\n",
        "# Dictionary untuk menyimpan hasil sebelum dan sesudah tuning\n",
        "results = {}\n",
        "\n",
        "# ==== Hyperparameter Tuning untuk Random Forest ====\n",
        "rf_params = {\n",
        "    'n_estimators': [50, 100, 200],\n",
        "    'criterion': ['gini', 'entropy'],\n",
        "    'max_depth': [10, 20, 30, None],\n",
        "    'min_samples_split': [2, 5, 10],\n",
        "    'min_samples_leaf': [1, 2, 4]\n",
        "}\n",
        "\n",
        "# Inisialisasi model Random Forest\n",
        "rf = RandomForestClassifier(random_state=42)\n",
        "\n",
        "# Grid Search dengan Cross Validation\n",
        "rf_grid = GridSearchCV(rf, rf_params, cv=5, scoring='accuracy', n_jobs=-1)\n",
        "rf_grid.fit(X_train, y_train)\n",
        "\n",
        "# Model terbaik setelah tuning\n",
        "best_rf = rf_grid.best_estimator_\n",
        "rf_best_pred = best_rf.predict(X_test)\n",
        "\n",
        "# Simpan hasil tuning Random Forest\n",
        "results[\"Best Params\"] = rf_grid.best_params_\n",
        "results[\"Accuracy\"] = accuracy_score(y_test, rf_best_pred)\n",
        "results[\"Classification Report\"] = classification_report(y_test, rf_best_pred)\n",
        "\n",
        "# ==== Cetak Hasil Tuning ====\n",
        "print(\"Best Parameters:\", results[\"Best Params\"])\n",
        "print(\"Accuracy:\", results[\"Accuracy\"])\n",
        "print(\"Classification Report:\\n\", results[\"Classification Report\"])\n",
        "\n",
        "# Lakukan cross-validation pada model terbaik\n",
        "cv_scores = cross_val_score(best_rf, X_train, y_train, cv=5, scoring='accuracy')\n",
        "\n",
        "# Tambahkan hasil cross-validation ke dalam dictionary hasil\n",
        "results[\"Cross Validation Scores\"] = cv_scores\n",
        "results[\"Mean CV Score\"] = cv_scores.mean()\n",
        "\n",
        "# Cetak hasil cross-validation\n",
        "print(\"Cross Validation Scores:\", cv_scores)\n",
        "print(\"Mean Cross Validation Score:\", results[\"Mean CV Score\"])\n",
        "\n",
        "#--End Comment\n",
        "\n",
        "\n",
        "## --- OUTPUT --- ##\n",
        "# Best Parameters: {'criterion': 'entropy', 'max_depth': 10, 'min_samples_leaf': 1, 'min_samples_split': 2, 'n_estimators': 50}\n",
        "# Accuracy: 0.9995\n",
        "# Classification Report:\n",
        "#                precision    recall  f1-score   support\n",
        "\n",
        "#            0       1.00      1.00      1.00      1902\n",
        "#            1       0.96      1.00      0.98        22\n",
        "#            2       1.00      1.00      1.00         2\n",
        "#            3       1.00      1.00      1.00         7\n",
        "#            4       1.00      0.99      0.99        67\n",
        "\n",
        "#     accuracy                           1.00      2000\n",
        "#    macro avg       0.99      1.00      0.99      2000\n",
        "# weighted avg       1.00      1.00      1.00      2000\n",
        "\n",
        "# Cross Validation Scores: [1.       1.       1.       1.       0.999375]\n",
        "# Mean Cross Validation Score: 0.999875"
      ]
    },
    {
      "cell_type": "markdown",
      "metadata": {
        "id": "hE7pqlEPEYzI"
      },
      "source": [
        "## **d. Evaluasi Model Klasifikasi setelah Tuning (Optional)**"
      ]
    },
    {
      "cell_type": "markdown",
      "metadata": {
        "id": "feaPESoeN0zz"
      },
      "source": [
        "Berikut adalah rekomendasi tahapannya.\n",
        "1. Gunakan model dengan hyperparameter terbaik.\n",
        "2. Hitung ulang metrik evaluasi untuk melihat apakah ada peningkatan performa."
      ]
    },
    {
      "cell_type": "code",
      "execution_count": 39,
      "metadata": {
        "id": "HTXZRvEeNMb1"
      },
      "outputs": [
        {
          "name": "stdout",
          "output_type": "stream",
          "text": [
            "=== Evaluasi Model Default ===\n",
            "Accuracy: 0.9995\n",
            "Classification Report:\n",
            "               precision    recall  f1-score   support\n",
            "\n",
            "           0       1.00      1.00      1.00      1902\n",
            "           1       0.96      1.00      0.98        22\n",
            "           2       1.00      1.00      1.00         2\n",
            "           3       1.00      1.00      1.00         7\n",
            "           4       1.00      0.99      0.99        67\n",
            "\n",
            "    accuracy                           1.00      2000\n",
            "   macro avg       0.99      1.00      0.99      2000\n",
            "weighted avg       1.00      1.00      1.00      2000\n",
            "\n",
            "\n",
            "=== Evaluasi Model Tuning ===\n",
            "Accuracy: 0.9995\n",
            "Classification Report:\n",
            "               precision    recall  f1-score   support\n",
            "\n",
            "           0       1.00      1.00      1.00      1902\n",
            "           1       0.96      1.00      0.98        22\n",
            "           2       1.00      1.00      1.00         2\n",
            "           3       1.00      1.00      1.00         7\n",
            "           4       1.00      0.99      0.99        67\n",
            "\n",
            "    accuracy                           1.00      2000\n",
            "   macro avg       0.99      1.00      0.99      2000\n",
            "weighted avg       1.00      1.00      1.00      2000\n",
            "\n"
          ]
        },
        {
          "data": {
            "image/png": "[encoded data removed]",
            "text/plain": [
              "<Figure size 1400x600 with 4 Axes>"
            ]
          },
          "metadata": {},
          "output_type": "display_data"
        }
      ],
      "source": [
        "# Simpan hasil evaluasi model default\n",
        "default_results = {\n",
        "    \"Accuracy\": accuracy_score(y_test, y_pred_rf),\n",
        "    \"Classification Report\": classification_report(y_test, y_pred_rf, output_dict=True),\n",
        "    \"Confusion Matrix\": confusion_matrix(y_test, y_pred_rf)\n",
        "}\n",
        "\n",
        "# ==== 2. Model Random Forest dengan Hyperparameter Tuning ====\n",
        "best_params = {\n",
        "    'criterion': 'entropy',\n",
        "    'max_depth': 10,\n",
        "    'min_samples_leaf': 1,\n",
        "    'min_samples_split': 2,\n",
        "    'n_estimators': 50\n",
        "}\n",
        "\n",
        "rf_tuned = RandomForestClassifier(**best_params, random_state=42)\n",
        "rf_tuned.fit(X_train, y_train)\n",
        "rf_tuned_pred = rf_tuned.predict(X_test)\n",
        "\n",
        "# Simpan hasil evaluasi model tuning\n",
        "tuned_results = {\n",
        "    \"Accuracy\": accuracy_score(y_test, rf_tuned_pred),\n",
        "    \"Classification Report\": classification_report(y_test, rf_tuned_pred, output_dict=True),\n",
        "    \"Confusion Matrix\": confusion_matrix(y_test, rf_tuned_pred)\n",
        "}\n",
        "\n",
        "# ==== 3. Tampilkan Hasil Evaluasi ====\n",
        "print(\"=== Evaluasi Model Default ===\")\n",
        "print(\"Accuracy:\", default_results[\"Accuracy\"])\n",
        "print(\"Classification Report:\\n\", classification_report(y_test, y_pred_rf))\n",
        "\n",
        "print(\"\\n=== Evaluasi Model Tuning ===\")\n",
        "print(\"Accuracy:\", tuned_results[\"Accuracy\"])\n",
        "print(\"Classification Report:\\n\", classification_report(y_test, rf_tuned_pred))\n",
        "\n",
        "# ==== 4. Visualisasi Confusion Matrix ====\n",
        "fig, axes = plt.subplots(1, 2, figsize=(14, 6))\n",
        "\n",
        "# Confusion Matrix untuk Model Default\n",
        "sns.heatmap(default_results[\"Confusion Matrix\"], annot=True, fmt='d', cmap='Blues', ax=axes[0])\n",
        "axes[0].set_title(\"Confusion Matrix - Default RF\")\n",
        "axes[0].set_xlabel(\"Predicted Label\")\n",
        "axes[0].set_ylabel(\"True Label\")\n",
        "\n",
        "# Confusion Matrix untuk Model Tuning\n",
        "sns.heatmap(tuned_results[\"Confusion Matrix\"], annot=True, fmt='d', cmap='Greens', ax=axes[1])\n",
        "axes[1].set_title(\"Confusion Matrix - Tuned RF\")\n",
        "axes[1].set_xlabel(\"Predicted Label\")\n",
        "axes[1].set_ylabel(\"True Label\")\n",
        "\n",
        "plt.tight_layout()\n",
        "plt.show()"
      ]
    },
    {
      "cell_type": "markdown",
      "metadata": {},
      "source": [
        "🌟 Hasil Tuning terlihat tidak memberikan perubahan sama sekali, setiap score sama persis. Kita masih akan menggunakan model awal (**y_pred_rf**)"
      ]
    },
    {
      "cell_type": "markdown",
      "metadata": {
        "id": "ZRsOdm4uEgAW"
      },
      "source": [
        "## **e. Analisis Hasil Evaluasi Model Klasifikasi**\n",
        "\n",
        "**e.1. Perbandingan Hasil Evaluasi Sebelum dan Setelah Tuning**\n",
        "\n",
        "Dari hasil evaluasi model Random Forest sebelum dan setelah tuning, dapat disimpulkan bahwa akurasi tetap sama di angka 99.95%. Tidak ada perubahan signifikan pada metrik evaluasi seperti precision, recall, dan F1-score.\n",
        "\n",
        "| Model                  | Accuracy | Precision (Avg) | Recall (Avg) | F1-score (Avg) |\n",
        "|------------------------|-----------|-----------------|--------------|---------------|\n",
        "| Random Forest (Default) | 0.9995    | 1.00            | 1.00         | 1.00          |\n",
        "| Random Forest (Tuned)   | 0.9995    | 1.00            | 1.00         | 1.00          |\n",
        "- Precision, recall, dan F1-score tidak berubah, menunjukkan bahwa model tuning tidak meningkatkan performa secara signifikan.\n",
        "- Confusion matrix juga identik, menandakan bahwa tuning tidak berdampak besar pada distribusi prediksi.\n",
        "\n",
        "**e.2. Identifikasi Kelemahan Model**\n",
        "- Precision atau Recall Rendah untuk Kelas Tertentu. Dari classification report, terlihat bahwa:\n",
        "  - Kelas 1 (Minoritas, hanya 22 sampel):\n",
        "    - Recall 1.00 → Semua instance kelas ini berhasil diklasifikasikan dengan benar.\n",
        "    - Precision 0.96 → Ada beberapa instance dari kelas lain yang salah diklasifikasikan sebagai kelas ini.\n",
        "  - Kelas 4 (66 sampel):\n",
        "    - Recall sedikit lebih rendah (0.99) → Masih ada satu instance yang salah diklasifikasikan.\n",
        "\n",
        "Model masih mengalami sedikit kesalahan pada kelas minoritas (kelas 1 dan 4).\n",
        "\n",
        "- Apakah Model Mengalami Overfitting atau Underfitting?\n",
        "  - Tidak ada perubahan pada akurasi antara model sebelum dan setelah tuning, yang berarti model sebelumnya sudah sangat optimal.\n",
        "  - Tidak ada tanda-tanda underfitting atau overfitting, karena skor di semua lipatan sangat tinggi, dengan hanya sedikit penurunan pada satu lipatan (0.999375).\n",
        "  - Potensi overfitting tetap ada, karena model memiliki akurasi yang terlalu tinggi di data uji.\n",
        "    - Jika performa menurun pada data baru, berarti overfitting terjadi.\n",
        "    - Dapat diatasi dengan regularisasi atau pengurangan kompleksitas model.\n",
        "\n",
        "**e.3. Rekomendasi Tindakan Lanjutan**\n",
        "- Jika Model Sudah Cukup Baik: ✅ Gunakan model ini untuk prediksi pada data baru, tetapi tetap lakukan pemantauan untuk memastikan performanya tetap konsisten.\n",
        "- Jika Ingin Meningkatkan Model. Coba algoritma lain seperti:\n",
        "  - XGBoost atau LightGBM → Bisa memberikan hasil yang lebih baik dengan optimasi lebih lanjut.\n",
        "  - Gunakan teknik handling data imbalance seperti:\n",
        "    - SMOTE (Synthetic Minority Over-sampling Technique) untuk menambah data kelas minoritas.\n",
        "    - Class weighting agar model lebih memperhatikan kelas dengan sedikit data.\n",
        "  - Lakukan fine-tuning lebih lanjut dengan metode lain seperti:\n",
        "    - Bayesian Optimization untuk pencarian parameter yang lebih efisien.\n",
        "    - Cross-validation lebih banyak lipatan (cv=10) untuk memastikan hasil lebih stabil."
      ]
    }
  ],
  "metadata": {
    "colab": {
      "collapsed_sections": [
        "fKADPWcFKlj3",
        "f3YIEnAFKrKL",
        "KkPem5eWL2UP",
        "IVPbB03CMhTT"
      ],
      "provenance": []
    },
    "kernelspec": {
      "display_name": "mlp_env",
      "language": "python",
      "name": "python3"
    },
    "language_info": {
      "codemirror_mode": {
        "name": "ipython",
        "version": 3
      },
      "file_extension": ".py",
      "mimetype": "text/x-python",
      "name": "python",
      "nbconvert_exporter": "python",
      "pygments_lexer": "ipython3",
      "version": "3.12.9"
    }
  },
  "nbformat": 4,
  "nbformat_minor": 0
}
